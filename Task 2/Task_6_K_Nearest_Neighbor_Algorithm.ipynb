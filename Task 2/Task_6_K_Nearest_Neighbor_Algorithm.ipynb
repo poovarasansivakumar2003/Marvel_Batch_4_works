{
  "nbformat": 4,
  "nbformat_minor": 0,
  "metadata": {
    "colab": {
      "provenance": [],
      "authorship_tag": "ABX9TyOmrUAeAkVFLBAjwGYbeRBj",
      "include_colab_link": true
    },
    "kernelspec": {
      "name": "python3",
      "display_name": "Python 3"
    },
    "language_info": {
      "name": "python"
    }
  },
  "cells": [
    {
      "cell_type": "markdown",
      "metadata": {
        "id": "view-in-github",
        "colab_type": "text"
      },
      "source": [
        "<a href=\"https://colab.research.google.com/github/poovarasansivakumar2003/Marvel_works/blob/main/Task_6_K_Nearest_Neighbor_Algorithm.ipynb\" target=\"_parent\"><img src=\"https://colab.research.google.com/assets/colab-badge.svg\" alt=\"Open In Colab\"/></a>"
      ]
    },
    {
      "cell_type": "code",
      "execution_count": null,
      "metadata": {
        "id": "55lUoD8-JVmU"
      },
      "outputs": [],
      "source": [
        "import numpy as np\n",
        "\n",
        "class KNN:\n",
        "    def __init__(self, k=3):\n",
        "        self.k = k\n",
        "\n",
        "    def fit(self, X_train, y_train):\n",
        "        self.X_train = X_train\n",
        "        self.y_train = y_train\n",
        "\n",
        "    def euclidean_distance(self, X1, X2):\n",
        "        return np.sqrt(np.sum((X1 - X2)**2, axis=1))\n",
        "\n",
        "    def predict(self, X_test):\n",
        "        y_pred = [self._predict(x) for x in X_test]\n",
        "        return np.array(y_pred)\n",
        "\n",
        "    def _predict(self, x):\n",
        "        distances = self.euclidean_distance(x, self.X_train)\n",
        "        k_indices = np.argsort(distances)[:self.k]\n",
        "        k_nearest_labels = [self.y_train[i] for i in k_indices]\n",
        "        most_common = np.bincount(k_nearest_labels).argmax()\n",
        "        return most_common"
      ]
    },
    {
      "cell_type": "code",
      "source": [
        "from sklearn.datasets import load_iris, load_digits, load_wine\n",
        "from sklearn.model_selection import train_test_split\n",
        "from sklearn.metrics import accuracy_score\n",
        "from sklearn.neighbors import KNeighborsClassifier\n",
        "\n",
        "# Define datasets\n",
        "datasets = [load_iris(), load_digits(), load_wine()]\n",
        "\n",
        "# Define the number of neighbors for KNN\n",
        "k = 3\n",
        "\n",
        "for dataset in datasets:\n",
        "    print(f\"\\nDataset: {dataset['DESCR'].splitlines()[0]}\")\n",
        "\n",
        "    # Split the data\n",
        "    X_train, X_test, y_train, y_test = train_test_split(dataset.data, dataset.target, test_size=0.3, random_state=42)\n",
        "\n",
        "    # Using scikit-learn's KNeighborsClassifier\n",
        "    knn_sklearn = KNeighborsClassifier(n_neighbors=k)\n",
        "    knn_sklearn.fit(X_train, y_train)\n",
        "    y_pred_sklearn = knn_sklearn.predict(X_test)\n",
        "    accuracy_sklearn = accuracy_score(y_test, y_pred_sklearn)\n",
        "    print(\"Accuracy of scikit-learn's KNeighborsClassifier:\", accuracy_sklearn)\n",
        "\n",
        "    # Using custom KNN implementation\n",
        "    knn_custom = KNN(k=k)\n",
        "    knn_custom.fit(X_train, y_train)\n",
        "    y_pred_custom = knn_custom.predict(X_test)\n",
        "    accuracy_custom = accuracy_score(y_test, y_pred_custom)\n",
        "    print(\"Accuracy of custom KNN implementation:\", accuracy_custom)\n"
      ],
      "metadata": {
        "colab": {
          "base_uri": "https://localhost:8080/"
        },
        "id": "NDVAmHlaJg9t",
        "outputId": "1f3bedd8-2de6-4b4c-9a1e-a74d2741415f"
      },
      "execution_count": null,
      "outputs": [
        {
          "output_type": "stream",
          "name": "stdout",
          "text": [
            "\n",
            "Dataset: .. _iris_dataset:\n",
            "Accuracy of scikit-learn's KNeighborsClassifier: 1.0\n",
            "Accuracy of custom KNN implementation: 1.0\n",
            "\n",
            "Dataset: .. _digits_dataset:\n",
            "Accuracy of scikit-learn's KNeighborsClassifier: 0.9888888888888889\n",
            "Accuracy of custom KNN implementation: 0.9888888888888889\n",
            "\n",
            "Dataset: .. _wine_dataset:\n",
            "Accuracy of scikit-learn's KNeighborsClassifier: 0.7407407407407407\n",
            "Accuracy of custom KNN implementation: 0.7407407407407407\n"
          ]
        }
      ]
    }
  ]
}
